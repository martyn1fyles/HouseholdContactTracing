{
 "cells": [
  {
   "cell_type": "markdown",
   "metadata": {},
   "source": [
    "# Reference Data"
   ]
  },
  {
   "cell_type": "code",
   "execution_count": 2,
   "metadata": {},
   "outputs": [],
   "source": [
    "import matplotlib.pyplot as plt\n",
    "import numpy as np\n",
    "import os\n",
    "import pandas as pd\n",
    "from patsy import dmatrices\n",
    "import seaborn as sns\n",
    "import statsmodels as sm\n",
    "import statsmodels.api as sma\n",
    "import sys\n",
    "sys.path.append('../..')\n",
    "from household_contact_tracing.utilities import estimate_growth_rates\n",
    "sns.set()"
   ]
  },
  {
   "cell_type": "markdown",
   "metadata": {},
   "source": [
    "We generate reference data by simulating the epidemic with no contact tracing. Through this, we can gain an understanding of how well contact tracing is able to control the epidemic in terms of a growth rate reduction.\n",
    "\n",
    "This is done using the simulation script - \"Simulate_growth_rates_no_tracing.py\""
   ]
  },
  {
   "cell_type": "code",
   "execution_count": 5,
   "metadata": {},
   "outputs": [],
   "source": [
    "# Import the data\n",
    "\n",
    "#With households but IDP 0.1-0.5\n",
    "#reference_data = pd.read_excel(\"../../Data/Reference/growth_rates_no_tracing.xlsx\", index_col = 0)\n",
    "\n",
    "# Without housheolds, IDP 0.1-0.5:\n",
    "reference_data = pd.read_excel(\"../../Data/Reference/growth_rates_no_tracing_hh_size1.xlsx\", index_col=0)\n",
    "\n",
    "# With households, IDP 0.1-0.5:\n",
    "#reference_data = pd.read_excel(\"/Users/LizFearon/Documents/work/household-contact-tracing/Data/Reference/growth_rates_no_tracing_IDP0.15_0.25.xlsx\", index_col = 0)\n",
    "\n"
   ]
  },
  {
   "cell_type": "code",
   "execution_count": 6,
   "metadata": {},
   "outputs": [
    {
     "data": {
      "text/html": [
       "<div>\n",
       "<style scoped>\n",
       "    .dataframe tbody tr th:only-of-type {\n",
       "        vertical-align: middle;\n",
       "    }\n",
       "\n",
       "    .dataframe tbody tr th {\n",
       "        vertical-align: top;\n",
       "    }\n",
       "\n",
       "    .dataframe thead th {\n",
       "        text-align: right;\n",
       "    }\n",
       "</style>\n",
       "<table border=\"1\" class=\"dataframe\">\n",
       "  <thead>\n",
       "    <tr style=\"text-align: right;\">\n",
       "      <th></th>\n",
       "      <th>infection_reporting_prob</th>\n",
       "      <th>global_contact_reduction</th>\n",
       "      <th>0</th>\n",
       "      <th>1</th>\n",
       "      <th>2</th>\n",
       "      <th>3</th>\n",
       "      <th>4</th>\n",
       "      <th>5</th>\n",
       "      <th>6</th>\n",
       "      <th>7</th>\n",
       "      <th>...</th>\n",
       "      <th>10</th>\n",
       "      <th>11</th>\n",
       "      <th>12</th>\n",
       "      <th>13</th>\n",
       "      <th>14</th>\n",
       "      <th>15</th>\n",
       "      <th>16</th>\n",
       "      <th>17</th>\n",
       "      <th>18</th>\n",
       "      <th>19</th>\n",
       "    </tr>\n",
       "  </thead>\n",
       "  <tbody>\n",
       "    <tr>\n",
       "      <th>0</th>\n",
       "      <td>0.1</td>\n",
       "      <td>0.0</td>\n",
       "      <td>5000</td>\n",
       "      <td>5019</td>\n",
       "      <td>5298</td>\n",
       "      <td>6247</td>\n",
       "      <td>8233</td>\n",
       "      <td>11103</td>\n",
       "      <td>14927</td>\n",
       "      <td>19514</td>\n",
       "      <td>...</td>\n",
       "      <td>39513</td>\n",
       "      <td>49892</td>\n",
       "      <td>63074</td>\n",
       "      <td>79397</td>\n",
       "      <td>99315</td>\n",
       "      <td>124038</td>\n",
       "      <td>155407</td>\n",
       "      <td>193924</td>\n",
       "      <td>242528</td>\n",
       "      <td>302773</td>\n",
       "    </tr>\n",
       "    <tr>\n",
       "      <th>1</th>\n",
       "      <td>0.2</td>\n",
       "      <td>0.0</td>\n",
       "      <td>5000</td>\n",
       "      <td>5012</td>\n",
       "      <td>5378</td>\n",
       "      <td>6386</td>\n",
       "      <td>8370</td>\n",
       "      <td>11249</td>\n",
       "      <td>15106</td>\n",
       "      <td>19593</td>\n",
       "      <td>...</td>\n",
       "      <td>40213</td>\n",
       "      <td>50816</td>\n",
       "      <td>64256</td>\n",
       "      <td>80665</td>\n",
       "      <td>101398</td>\n",
       "      <td>127186</td>\n",
       "      <td>159294</td>\n",
       "      <td>198741</td>\n",
       "      <td>248399</td>\n",
       "      <td>310914</td>\n",
       "    </tr>\n",
       "    <tr>\n",
       "      <th>2</th>\n",
       "      <td>0.3</td>\n",
       "      <td>0.0</td>\n",
       "      <td>5000</td>\n",
       "      <td>5010</td>\n",
       "      <td>5367</td>\n",
       "      <td>6440</td>\n",
       "      <td>8560</td>\n",
       "      <td>11589</td>\n",
       "      <td>15599</td>\n",
       "      <td>20289</td>\n",
       "      <td>...</td>\n",
       "      <td>41689</td>\n",
       "      <td>52747</td>\n",
       "      <td>66373</td>\n",
       "      <td>83288</td>\n",
       "      <td>104686</td>\n",
       "      <td>131174</td>\n",
       "      <td>164193</td>\n",
       "      <td>205303</td>\n",
       "      <td>256564</td>\n",
       "      <td>320831</td>\n",
       "    </tr>\n",
       "    <tr>\n",
       "      <th>3</th>\n",
       "      <td>0.4</td>\n",
       "      <td>0.0</td>\n",
       "      <td>5000</td>\n",
       "      <td>5016</td>\n",
       "      <td>5337</td>\n",
       "      <td>6490</td>\n",
       "      <td>8646</td>\n",
       "      <td>11870</td>\n",
       "      <td>15829</td>\n",
       "      <td>20829</td>\n",
       "      <td>...</td>\n",
       "      <td>42927</td>\n",
       "      <td>54385</td>\n",
       "      <td>68593</td>\n",
       "      <td>86375</td>\n",
       "      <td>108603</td>\n",
       "      <td>136207</td>\n",
       "      <td>170598</td>\n",
       "      <td>213689</td>\n",
       "      <td>266925</td>\n",
       "      <td>334143</td>\n",
       "    </tr>\n",
       "    <tr>\n",
       "      <th>4</th>\n",
       "      <td>0.5</td>\n",
       "      <td>0.0</td>\n",
       "      <td>5000</td>\n",
       "      <td>5013</td>\n",
       "      <td>5354</td>\n",
       "      <td>6433</td>\n",
       "      <td>8649</td>\n",
       "      <td>11882</td>\n",
       "      <td>15871</td>\n",
       "      <td>20747</td>\n",
       "      <td>...</td>\n",
       "      <td>42639</td>\n",
       "      <td>54212</td>\n",
       "      <td>68269</td>\n",
       "      <td>85732</td>\n",
       "      <td>107690</td>\n",
       "      <td>135494</td>\n",
       "      <td>169761</td>\n",
       "      <td>212607</td>\n",
       "      <td>265976</td>\n",
       "      <td>333196</td>\n",
       "    </tr>\n",
       "    <tr>\n",
       "      <th>...</th>\n",
       "      <td>...</td>\n",
       "      <td>...</td>\n",
       "      <td>...</td>\n",
       "      <td>...</td>\n",
       "      <td>...</td>\n",
       "      <td>...</td>\n",
       "      <td>...</td>\n",
       "      <td>...</td>\n",
       "      <td>...</td>\n",
       "      <td>...</td>\n",
       "      <td>...</td>\n",
       "      <td>...</td>\n",
       "      <td>...</td>\n",
       "      <td>...</td>\n",
       "      <td>...</td>\n",
       "      <td>...</td>\n",
       "      <td>...</td>\n",
       "      <td>...</td>\n",
       "      <td>...</td>\n",
       "      <td>...</td>\n",
       "      <td>...</td>\n",
       "    </tr>\n",
       "    <tr>\n",
       "      <th>245</th>\n",
       "      <td>0.1</td>\n",
       "      <td>0.9</td>\n",
       "      <td>5000</td>\n",
       "      <td>5000</td>\n",
       "      <td>5033</td>\n",
       "      <td>5130</td>\n",
       "      <td>5328</td>\n",
       "      <td>5604</td>\n",
       "      <td>5888</td>\n",
       "      <td>6142</td>\n",
       "      <td>...</td>\n",
       "      <td>6603</td>\n",
       "      <td>6674</td>\n",
       "      <td>6732</td>\n",
       "      <td>6798</td>\n",
       "      <td>6829</td>\n",
       "      <td>6859</td>\n",
       "      <td>6884</td>\n",
       "      <td>6907</td>\n",
       "      <td>6920</td>\n",
       "      <td>6933</td>\n",
       "    </tr>\n",
       "    <tr>\n",
       "      <th>246</th>\n",
       "      <td>0.2</td>\n",
       "      <td>0.9</td>\n",
       "      <td>5000</td>\n",
       "      <td>5001</td>\n",
       "      <td>5042</td>\n",
       "      <td>5162</td>\n",
       "      <td>5358</td>\n",
       "      <td>5633</td>\n",
       "      <td>5909</td>\n",
       "      <td>6179</td>\n",
       "      <td>...</td>\n",
       "      <td>6622</td>\n",
       "      <td>6696</td>\n",
       "      <td>6761</td>\n",
       "      <td>6817</td>\n",
       "      <td>6851</td>\n",
       "      <td>6879</td>\n",
       "      <td>6906</td>\n",
       "      <td>6925</td>\n",
       "      <td>6939</td>\n",
       "      <td>6956</td>\n",
       "    </tr>\n",
       "    <tr>\n",
       "      <th>247</th>\n",
       "      <td>0.3</td>\n",
       "      <td>0.9</td>\n",
       "      <td>5000</td>\n",
       "      <td>5002</td>\n",
       "      <td>5045</td>\n",
       "      <td>5143</td>\n",
       "      <td>5336</td>\n",
       "      <td>5600</td>\n",
       "      <td>5839</td>\n",
       "      <td>6100</td>\n",
       "      <td>...</td>\n",
       "      <td>6472</td>\n",
       "      <td>6544</td>\n",
       "      <td>6593</td>\n",
       "      <td>6633</td>\n",
       "      <td>6661</td>\n",
       "      <td>6691</td>\n",
       "      <td>6708</td>\n",
       "      <td>6725</td>\n",
       "      <td>6740</td>\n",
       "      <td>6749</td>\n",
       "    </tr>\n",
       "    <tr>\n",
       "      <th>248</th>\n",
       "      <td>0.4</td>\n",
       "      <td>0.9</td>\n",
       "      <td>5000</td>\n",
       "      <td>5001</td>\n",
       "      <td>5036</td>\n",
       "      <td>5142</td>\n",
       "      <td>5323</td>\n",
       "      <td>5577</td>\n",
       "      <td>5822</td>\n",
       "      <td>6082</td>\n",
       "      <td>...</td>\n",
       "      <td>6473</td>\n",
       "      <td>6551</td>\n",
       "      <td>6597</td>\n",
       "      <td>6632</td>\n",
       "      <td>6666</td>\n",
       "      <td>6698</td>\n",
       "      <td>6720</td>\n",
       "      <td>6739</td>\n",
       "      <td>6751</td>\n",
       "      <td>6760</td>\n",
       "    </tr>\n",
       "    <tr>\n",
       "      <th>249</th>\n",
       "      <td>0.5</td>\n",
       "      <td>0.9</td>\n",
       "      <td>5000</td>\n",
       "      <td>5001</td>\n",
       "      <td>5036</td>\n",
       "      <td>5163</td>\n",
       "      <td>5374</td>\n",
       "      <td>5635</td>\n",
       "      <td>5917</td>\n",
       "      <td>6162</td>\n",
       "      <td>...</td>\n",
       "      <td>6565</td>\n",
       "      <td>6641</td>\n",
       "      <td>6696</td>\n",
       "      <td>6740</td>\n",
       "      <td>6787</td>\n",
       "      <td>6810</td>\n",
       "      <td>6833</td>\n",
       "      <td>6857</td>\n",
       "      <td>6869</td>\n",
       "      <td>6880</td>\n",
       "    </tr>\n",
       "  </tbody>\n",
       "</table>\n",
       "<p>250 rows × 22 columns</p>\n",
       "</div>"
      ],
      "text/plain": [
       "     infection_reporting_prob  global_contact_reduction     0     1     2  \\\n",
       "0                         0.1                       0.0  5000  5019  5298   \n",
       "1                         0.2                       0.0  5000  5012  5378   \n",
       "2                         0.3                       0.0  5000  5010  5367   \n",
       "3                         0.4                       0.0  5000  5016  5337   \n",
       "4                         0.5                       0.0  5000  5013  5354   \n",
       "..                        ...                       ...   ...   ...   ...   \n",
       "245                       0.1                       0.9  5000  5000  5033   \n",
       "246                       0.2                       0.9  5000  5001  5042   \n",
       "247                       0.3                       0.9  5000  5002  5045   \n",
       "248                       0.4                       0.9  5000  5001  5036   \n",
       "249                       0.5                       0.9  5000  5001  5036   \n",
       "\n",
       "        3     4      5      6      7  ...     10     11     12     13      14  \\\n",
       "0    6247  8233  11103  14927  19514  ...  39513  49892  63074  79397   99315   \n",
       "1    6386  8370  11249  15106  19593  ...  40213  50816  64256  80665  101398   \n",
       "2    6440  8560  11589  15599  20289  ...  41689  52747  66373  83288  104686   \n",
       "3    6490  8646  11870  15829  20829  ...  42927  54385  68593  86375  108603   \n",
       "4    6433  8649  11882  15871  20747  ...  42639  54212  68269  85732  107690   \n",
       "..    ...   ...    ...    ...    ...  ...    ...    ...    ...    ...     ...   \n",
       "245  5130  5328   5604   5888   6142  ...   6603   6674   6732   6798    6829   \n",
       "246  5162  5358   5633   5909   6179  ...   6622   6696   6761   6817    6851   \n",
       "247  5143  5336   5600   5839   6100  ...   6472   6544   6593   6633    6661   \n",
       "248  5142  5323   5577   5822   6082  ...   6473   6551   6597   6632    6666   \n",
       "249  5163  5374   5635   5917   6162  ...   6565   6641   6696   6740    6787   \n",
       "\n",
       "         15      16      17      18      19  \n",
       "0    124038  155407  193924  242528  302773  \n",
       "1    127186  159294  198741  248399  310914  \n",
       "2    131174  164193  205303  256564  320831  \n",
       "3    136207  170598  213689  266925  334143  \n",
       "4    135494  169761  212607  265976  333196  \n",
       "..      ...     ...     ...     ...     ...  \n",
       "245    6859    6884    6907    6920    6933  \n",
       "246    6879    6906    6925    6939    6956  \n",
       "247    6691    6708    6725    6740    6749  \n",
       "248    6698    6720    6739    6751    6760  \n",
       "249    6810    6833    6857    6869    6880  \n",
       "\n",
       "[250 rows x 22 columns]"
      ]
     },
     "execution_count": 6,
     "metadata": {},
     "output_type": "execute_result"
    }
   ],
   "source": [
    "reference_data"
   ]
  },
  {
   "cell_type": "code",
   "execution_count": 7,
   "metadata": {
    "tags": []
   },
   "outputs": [
    {
     "name": "stdout",
     "output_type": "stream",
     "text": [
      "current fit; 249\r"
     ]
    }
   ],
   "source": [
    "reference_data = estimate_growth_rates(reference_data)"
   ]
  },
  {
   "cell_type": "code",
   "execution_count": 8,
   "metadata": {},
   "outputs": [
    {
     "data": {
      "text/plain": [
       "Text(0, 0.5, 'Frequency')"
      ]
     },
     "execution_count": 8,
     "metadata": {},
     "output_type": "execute_result"
    },
    {
     "data": {
      "image/png": "[encoded data removed]",
      "text/plain": [
       "<Figure size 432x288 with 1 Axes>"
      ]
     },
     "metadata": {},
     "output_type": "display_data"
    }
   ],
   "source": [
    "sns.distplot(reference_data[\"growth_rate\"])\n",
    "plt.title(\"Growth Rate Distribution\")\n",
    "plt.xlabel(\"Growth Rates\")\n",
    "plt.ylabel(\"Frequency\")"
   ]
  },
  {
   "cell_type": "code",
   "execution_count": 9,
   "metadata": {},
   "outputs": [],
   "source": [
    "results = reference_data[[\"global_contact_reduction\", \"infection_reporting_prob\"]]"
   ]
  },
  {
   "cell_type": "code",
   "execution_count": 10,
   "metadata": {},
   "outputs": [
    {
     "name": "stderr",
     "output_type": "stream",
     "text": [
      "<ipython-input-10-f30719328877>:1: SettingWithCopyWarning: \n",
      "A value is trying to be set on a copy of a slice from a DataFrame.\n",
      "Try using .loc[row_indexer,col_indexer] = value instead\n",
      "\n",
      "See the caveats in the documentation: https://pandas.pydata.org/pandas-docs/stable/user_guide/indexing.html#returning-a-view-versus-a-copy\n",
      "  results[\"growth_rate\"] = pd.Series(reference_data[\"growth_rate\"])\n"
     ]
    }
   ],
   "source": [
    "results[\"growth_rate\"] = pd.Series(reference_data[\"growth_rate\"])"
   ]
  },
  {
   "cell_type": "markdown",
   "metadata": {},
   "source": [
    "Create a data table of the observed growth rate and "
   ]
  },
  {
   "cell_type": "code",
   "execution_count": 11,
   "metadata": {},
   "outputs": [
    {
     "data": {
      "text/html": [
       "<div>\n",
       "<style scoped>\n",
       "    .dataframe tbody tr th:only-of-type {\n",
       "        vertical-align: middle;\n",
       "    }\n",
       "\n",
       "    .dataframe tbody tr th {\n",
       "        vertical-align: top;\n",
       "    }\n",
       "\n",
       "    .dataframe thead th {\n",
       "        text-align: right;\n",
       "    }\n",
       "</style>\n",
       "<table border=\"1\" class=\"dataframe\">\n",
       "  <thead>\n",
       "    <tr style=\"text-align: right;\">\n",
       "      <th></th>\n",
       "      <th>global_contact_reduction</th>\n",
       "      <th>infection_reporting_prob</th>\n",
       "      <th>growth_rate</th>\n",
       "    </tr>\n",
       "  </thead>\n",
       "  <tbody>\n",
       "    <tr>\n",
       "      <th>0</th>\n",
       "      <td>0.0</td>\n",
       "      <td>0.1</td>\n",
       "      <td>0.219684</td>\n",
       "    </tr>\n",
       "    <tr>\n",
       "      <th>1</th>\n",
       "      <td>0.0</td>\n",
       "      <td>0.2</td>\n",
       "      <td>0.221321</td>\n",
       "    </tr>\n",
       "    <tr>\n",
       "      <th>2</th>\n",
       "      <td>0.0</td>\n",
       "      <td>0.3</td>\n",
       "      <td>0.219894</td>\n",
       "    </tr>\n",
       "    <tr>\n",
       "      <th>3</th>\n",
       "      <td>0.0</td>\n",
       "      <td>0.4</td>\n",
       "      <td>0.220205</td>\n",
       "    </tr>\n",
       "    <tr>\n",
       "      <th>4</th>\n",
       "      <td>0.0</td>\n",
       "      <td>0.5</td>\n",
       "      <td>0.222878</td>\n",
       "    </tr>\n",
       "    <tr>\n",
       "      <th>...</th>\n",
       "      <td>...</td>\n",
       "      <td>...</td>\n",
       "      <td>...</td>\n",
       "    </tr>\n",
       "    <tr>\n",
       "      <th>245</th>\n",
       "      <td>0.9</td>\n",
       "      <td>0.1</td>\n",
       "      <td>-0.232266</td>\n",
       "    </tr>\n",
       "    <tr>\n",
       "      <th>246</th>\n",
       "      <td>0.9</td>\n",
       "      <td>0.2</td>\n",
       "      <td>-0.228863</td>\n",
       "    </tr>\n",
       "    <tr>\n",
       "      <th>247</th>\n",
       "      <td>0.9</td>\n",
       "      <td>0.3</td>\n",
       "      <td>-0.238460</td>\n",
       "    </tr>\n",
       "    <tr>\n",
       "      <th>248</th>\n",
       "      <td>0.9</td>\n",
       "      <td>0.4</td>\n",
       "      <td>-0.244291</td>\n",
       "    </tr>\n",
       "    <tr>\n",
       "      <th>249</th>\n",
       "      <td>0.9</td>\n",
       "      <td>0.5</td>\n",
       "      <td>-0.225544</td>\n",
       "    </tr>\n",
       "  </tbody>\n",
       "</table>\n",
       "<p>250 rows × 3 columns</p>\n",
       "</div>"
      ],
      "text/plain": [
       "     global_contact_reduction  infection_reporting_prob  growth_rate\n",
       "0                         0.0                       0.1     0.219684\n",
       "1                         0.0                       0.2     0.221321\n",
       "2                         0.0                       0.3     0.219894\n",
       "3                         0.0                       0.4     0.220205\n",
       "4                         0.0                       0.5     0.222878\n",
       "..                        ...                       ...          ...\n",
       "245                       0.9                       0.1    -0.232266\n",
       "246                       0.9                       0.2    -0.228863\n",
       "247                       0.9                       0.3    -0.238460\n",
       "248                       0.9                       0.4    -0.244291\n",
       "249                       0.9                       0.5    -0.225544\n",
       "\n",
       "[250 rows x 3 columns]"
      ]
     },
     "execution_count": 11,
     "metadata": {},
     "output_type": "execute_result"
    }
   ],
   "source": [
    "results"
   ]
  },
  {
   "cell_type": "code",
   "execution_count": 12,
   "metadata": {},
   "outputs": [],
   "source": [
    "def growth_rate_to_doubling_time(growth_rates):\n",
    "    return np.sign(growth_rates) * (np.log(2) / (np.sign(growth_rates) * growth_rates))\n",
    "\n",
    "def doubling_time_to_growth_rate(doubling_times):\n",
    "    return np.sign(doubling_times) * ( np.log(2) / (np.sign(doubling_times) * doubling_times))"
   ]
  },
  {
   "cell_type": "code",
   "execution_count": 13,
   "metadata": {},
   "outputs": [
    {
     "name": "stderr",
     "output_type": "stream",
     "text": [
      "<ipython-input-12-e3933c76672f>:5: RuntimeWarning: divide by zero encountered in true_divide\n",
      "  return np.sign(doubling_times) * ( np.log(2) / (np.sign(doubling_times) * doubling_times))\n",
      "<ipython-input-12-e3933c76672f>:5: RuntimeWarning: invalid value encountered in multiply\n",
      "  return np.sign(doubling_times) * ( np.log(2) / (np.sign(doubling_times) * doubling_times))\n",
      "<ipython-input-12-e3933c76672f>:5: RuntimeWarning: divide by zero encountered in true_divide\n",
      "  return np.sign(doubling_times) * ( np.log(2) / (np.sign(doubling_times) * doubling_times))\n",
      "<ipython-input-12-e3933c76672f>:5: RuntimeWarning: invalid value encountered in multiply\n",
      "  return np.sign(doubling_times) * ( np.log(2) / (np.sign(doubling_times) * doubling_times))\n"
     ]
    },
    {
     "data": {
      "image/png": "[encoded data removed]",
      "text/plain": [
       "<Figure size 432x288 with 1 Axes>"
      ]
     },
     "metadata": {},
     "output_type": "display_data"
    }
   ],
   "source": [
    "fig, ax = plt.subplots()\n",
    "\n",
    "y_vals = np.linspace(-0.15, 0.25, 17)\n",
    "y_vals = np.concatenate((y_vals[:6], y_vals[7:]))\n",
    "\n",
    "for infection_report_value in [0.1, 0.2, 0.3, 0.4, 0.5]:\n",
    "#for infection_report_value in [0.15, 0.2, 0.25]:\n",
    "\n",
    "\n",
    "    subset = results[results[\"infection_reporting_prob\"] == infection_report_value]\n",
    "    \n",
    "    plt.plot(\"global_contact_reduction\", \"growth_rate\", data = subset)\n",
    "\n",
    "ax2 = ax.secondary_yaxis(\"right\", functions=(growth_rate_to_doubling_time, doubling_time_to_growth_rate))\n",
    "ax2.set_ticks(growth_rate_to_doubling_time(y_vals), minor = False)\n",
    "\n",
    "plt.legend([\"Discovery prob = 0.1\",\n",
    "           \"Discovery prob = 0.2\",\n",
    "           \"Discovery prob = 0.3\",\n",
    "           \"Discovery prob = 0.4\",\n",
    "           \"Discovery prob = 0.5\"])\n",
    "\n",
    "#plt.legend([\"Discovery prob = 0.15\",\n",
    "#           \"Discovery prob = 0.2\",\n",
    "#           \"Discovery prob = 0.25\"])\n",
    "\n",
    "plt.ylabel(\"Growth rate\")\n",
    "plt.xlabel(\"% Reduction in global contacts\")\n",
    "plt.title(\"Global contact reduction vs growth rate\\n(no tracing) (household quarantines)\")\n",
    "ax2.set_ylabel(\"Halving / doubling times (days)\")\n",
    "#plt.savefig(\"../../Figures/Reference Data/reference_curve.svg\")\n",
    "#plt.savefig(\"../../Figures/Reference Data/reference_curve_IDP_0.15_0.25.svg\")\n",
    "#plt.savefig(\"../../Figures/Reference Data/reference_curve_IDP_0.15_0.25.pdf\")\n",
    "#plt.savefig(\"../../Figures/Reference Data/reference_curve_IDP_0.15_0.25_hhsize1.svg\")\n",
    "#plt.savefig(\"../../Figures/Reference Data/reference_curve_IDP_0.15_0.25_hhsiz1.pdf\")\n",
    "plt.savefig(\"../../Figures/Reference Data/reference_curve_IDP_0.1_0.5_hhsize1.svg\")\n",
    "plt.savefig(\"../../Figures/Reference Data/reference_curve_IDP_0.1_0.5_hhsiz1.pdf\")"
   ]
  },
  {
   "cell_type": "markdown",
   "metadata": {},
   "source": [
    "There's some pretty clear heteroscedasticity in the results. We estimate the mean growth rate using robust linear regression to cope with it (I tried iteratively reweighted least squares but can't figure it out at the moment)."
   ]
  },
  {
   "cell_type": "code",
   "execution_count": 14,
   "metadata": {
    "tags": []
   },
   "outputs": [
    {
     "name": "stdout",
     "output_type": "stream",
     "text": [
      "                    Robust linear Model Regression Results                    \n",
      "==============================================================================\n",
      "Dep. Variable:            growth_rate   No. Observations:                  250\n",
      "Model:                            RLM   Df Residuals:                      245\n",
      "Method:                          IRLS   Df Model:                            4\n",
      "Norm:                          HuberT                                         \n",
      "Scale Est.:                       mad                                         \n",
      "Cov Type:                          H1                                         \n",
      "Date:                Wed, 09 Sep 2020                                         \n",
      "Time:                        18:21:03                                         \n",
      "No. Iterations:                    48                                         \n",
      "====================================================================================================\n",
      "                                       coef    std err          z      P>|z|      [0.025      0.975]\n",
      "----------------------------------------------------------------------------------------------------\n",
      "Intercept                            0.2190      0.001    272.552      0.000       0.217       0.221\n",
      "global_contact_reduction            -0.1798      0.013    -14.225      0.000      -0.205      -0.155\n",
      "I(global_contact_reduction ** 2)    -0.5231      0.058     -9.028      0.000      -0.637      -0.410\n",
      "I(global_contact_reduction ** 3)     0.9805      0.097     10.086      0.000       0.790       1.171\n",
      "I(global_contact_reduction ** 4)    -0.8767      0.054    -16.365      0.000      -0.982      -0.772\n",
      "====================================================================================================\n",
      "\n",
      "If the model instance has been used for another fit with different fit parameters, then the fit options might not be the correct ones anymore .\n"
     ]
    }
   ],
   "source": [
    "#y, X = dmatrices('growth_rate ~ global_contact_reduction + I(global_contact_reduction**2) + I(global_contact_reduction**3)',\n",
    "#                data = results)\n",
    "\n",
    "y, X = dmatrices('growth_rate ~ global_contact_reduction + I(global_contact_reduction**2) + I(global_contact_reduction**3) + I(global_contact_reduction**4)',\n",
    "                 data = results)                 \n",
    "model = sma.RLM(y, X)\n",
    "res = model.fit()\n",
    "print(res.summary())\n",
    "#sm.graphics.regressionplots.plot_fit(res, \"global_contact_reduction\")"
   ]
  },
  {
   "cell_type": "code",
   "execution_count": 15,
   "metadata": {},
   "outputs": [
    {
     "data": {
      "text/plain": [
       "Text(0, 0.5, 'Residual')"
      ]
     },
     "execution_count": 15,
     "metadata": {},
     "output_type": "execute_result"
    },
    {
     "data": {
      "image/png": "[encoded data removed]",
      "text/plain": [
       "<Figure size 432x288 with 1 Axes>"
      ]
     },
     "metadata": {},
     "output_type": "display_data"
    }
   ],
   "source": [
    "sns.scatterplot(res.fittedvalues, res.resid)\n",
    "plt.title(\"Fitted Value vs Residual\")\n",
    "plt.xlabel(\"Fitted Value\")\n",
    "plt.ylabel(\"Residual\")"
   ]
  },
  {
   "cell_type": "code",
   "execution_count": 18,
   "metadata": {
    "tags": []
   },
   "outputs": [],
   "source": [
    "# Compare fit of models with a qithout quartic term. It looks better to include the quartic term from looking at the residuals plot.abs\n",
    "\n",
    "#y, X = dmatrices('growth_rate ~ global_contact_reduction + I(global_contact_reduction**2) + I(global_contact_reduction**3)',\n",
    "#                 data = results)\n",
    "# AIC -1793, BIC -1779, LL=900.37\n",
    "\n",
    "#y, X = dmatrices('growth_rate ~ global_contact_reduction + I(global_contact_reduction**2) + I(global_contact_reduction**3) + I(global_contact_reduction**4)',\n",
    "                 #data = results)  \n",
    "# AIC -1807, BIC -1798, LL=908.32\n",
    "\n",
    "#model = sma.OLS(y, X)\n",
    "#res = model.fit()\n",
    "#print(res.summary())\n",
    "\n",
    "# CONCLUSION TO ADD QUARTIC TERM\n"
   ]
  },
  {
   "cell_type": "code",
   "execution_count": 19,
   "metadata": {},
   "outputs": [],
   "source": [
    "#df = pd.DataFrame([res.params], columns = [\"intercept\", \"coef_contact_reduction\", \"coef_contact_reduction**2\", \"coef_contact_reduction**3\"])\n",
    "\n",
    "df = pd.DataFrame([res.params], columns = [\"intercept\", \"coef_contact_reduction\", \"coef_contact_reduction**2\", \"coef_contact_reduction**3\", \"coef_contact_reduction**4\"])"
   ]
  },
  {
   "cell_type": "code",
   "execution_count": 20,
   "metadata": {},
   "outputs": [
    {
     "data": {
      "text/html": [
       "<div>\n",
       "<style scoped>\n",
       "    .dataframe tbody tr th:only-of-type {\n",
       "        vertical-align: middle;\n",
       "    }\n",
       "\n",
       "    .dataframe tbody tr th {\n",
       "        vertical-align: top;\n",
       "    }\n",
       "\n",
       "    .dataframe thead th {\n",
       "        text-align: right;\n",
       "    }\n",
       "</style>\n",
       "<table border=\"1\" class=\"dataframe\">\n",
       "  <thead>\n",
       "    <tr style=\"text-align: right;\">\n",
       "      <th></th>\n",
       "      <th>intercept</th>\n",
       "      <th>coef_contact_reduction</th>\n",
       "      <th>coef_contact_reduction**2</th>\n",
       "      <th>coef_contact_reduction**3</th>\n",
       "      <th>coef_contact_reduction**4</th>\n",
       "    </tr>\n",
       "  </thead>\n",
       "  <tbody>\n",
       "    <tr>\n",
       "      <th>0</th>\n",
       "      <td>0.219025</td>\n",
       "      <td>-0.179784</td>\n",
       "      <td>-0.523144</td>\n",
       "      <td>0.980479</td>\n",
       "      <td>-0.876667</td>\n",
       "    </tr>\n",
       "  </tbody>\n",
       "</table>\n",
       "</div>"
      ],
      "text/plain": [
       "   intercept  coef_contact_reduction  coef_contact_reduction**2  \\\n",
       "0   0.219025               -0.179784                  -0.523144   \n",
       "\n",
       "   coef_contact_reduction**3  coef_contact_reduction**4  \n",
       "0                   0.980479                  -0.876667  "
      ]
     },
     "execution_count": 20,
     "metadata": {},
     "output_type": "execute_result"
    }
   ],
   "source": [
    "df"
   ]
  },
  {
   "cell_type": "markdown",
   "metadata": {},
   "source": [
    "We export the OLS coefficients so that the reference curve can be drawn in other notebooks."
   ]
  },
  {
   "cell_type": "code",
   "execution_count": 21,
   "metadata": {},
   "outputs": [],
   "source": [
    "#df.to_excel(\"../../Data/Reference/OLS_coefficients.xlsx\")\n",
    "#df.to_excel(\"../../Data/Reference/OLS_coefficients_IDP_0.15_0.25.xlsx\")\n",
    "#df.to_excel(\"../../Data/Reference/OLS_coefficients_IDP_0.15_0.25_hhsize1.xlsx\")\n",
    "df.to_excel(\"../../Data/Reference/OLS_coefficients_IDP_0.1_0.5_hhsize1.xlsx\")"
   ]
  },
  {
   "cell_type": "code",
   "execution_count": null,
   "metadata": {},
   "outputs": [],
   "source": []
  }
 ],
 "metadata": {
  "kernelspec": {
   "display_name": "Python 3",
   "language": "python",
   "name": "python3"
  },
  "language_info": {
   "codemirror_mode": {
    "name": "ipython",
    "version": 3
   },
   "file_extension": ".py",
   "mimetype": "text/x-python",
   "name": "python",
   "nbconvert_exporter": "python",
   "pygments_lexer": "ipython3",
   "version": "3.8.5"
  }
 },
 "nbformat": 4,
 "nbformat_minor": 4
}
